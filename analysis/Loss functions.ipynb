{
 "cells": [
  {
   "cell_type": "code",
   "execution_count": 47,
   "metadata": {},
   "outputs": [],
   "source": [
    "import seaborn as sns\n",
    "import matplotlib.pyplot as plt\n",
    "import pandas as pd\n",
    "import numpy as np\n",
    "#sns.set_theme(style=\"whitegrid\")\n",
    "sns.set(rc={'figure.figsize':(16,13)})"
   ]
  },
  {
   "cell_type": "code",
   "execution_count": null,
   "metadata": {},
   "outputs": [],
   "source": []
  },
  {
   "cell_type": "markdown",
   "metadata": {},
   "source": [
    "# Generate side-by-side plot"
   ]
  },
  {
   "cell_type": "code",
   "execution_count": 48,
   "metadata": {},
   "outputs": [],
   "source": [
    "# Absolute error\n",
    "def AE(y, y_hat, t, T):\n",
    "    \n",
    "    resid = np.abs(y - y_hat)\n",
    "    \n",
    "    return resid\n",
    "\n",
    "#############################################\n",
    "\n",
    "# Progression-based exponential decay\n",
    "def PTD(y, y_hat, t, T, losstype=\"loss\", weight=1):\n",
    "    \n",
    "    decay = ((T-t)/T)\n",
    "    resid = np.abs(y - y_hat)\n",
    "    \n",
    "    if losstype==\"loss\":\n",
    "        EP = resid + resid**decay\n",
    "    if losstype==\"penalty\":\n",
    "        EP = resid+ weight*(resid**decay)\n",
    "        \n",
    "    return EP\n",
    "\n",
    "# Exponential decay factor\n",
    "def ETD(y, y_hat, t, T, losstype=\"loss\", weight=1):\n",
    "    \n",
    "    decay = np.exp(t)\n",
    "    \n",
    "    resid = np.abs(y - y_hat)\n",
    "    \n",
    "    if losstype==\"loss\":\n",
    "        EP = resid + resid/decay\n",
    "    if losstype==\"penalty\":\n",
    "        EP = resid+ weight*(resid/decay)\n",
    "    \n",
    "    return EP\n",
    "\n",
    "# Moderate exponential decay\n",
    "def MTD(y, y_hat, t, T, losstype=\"loss\", weight=1):\n",
    "    \n",
    "    decay = 1/t\n",
    "    \n",
    "    resid = np.abs(y - y_hat)\n",
    "    \n",
    "    if losstype==\"loss\":\n",
    "        EP = resid + resid*decay\n",
    "    if losstype==\"penalty\":\n",
    "        EP = resid+ weight*(resid*decay)\n",
    "    \n",
    "    return EP\n",
    "\n",
    "\n",
    "\n",
    "def generate_obs(metric, T = 10, factor = 1, loss_comp=\"loss\"):\n",
    "    \n",
    "    y = np.linspace(start=250,stop=50, num=10,endpoint=True)\n",
    "    \n",
    "    y_hat = np.linspace(start=250,stop=50, num=10,endpoint=True)+50\n",
    "    \n",
    "    t = np.array([1,2,3,4,5,6,7,8,9,10])\n",
    "    \n",
    "    if metric == \"AE\":\n",
    "        resid = AE(y, y_hat, t, T)\n",
    "            \n",
    "    if metric == \"PTD\":\n",
    "        resid = PTD(y, y_hat, t, T, losstype=loss_comp, weight=factor)\n",
    "            \n",
    "    if metric == \"ETD\":\n",
    "        resid = ETD(y, y_hat, t, T, losstype=loss_comp, weight=factor)\n",
    "        \n",
    "    if metric == \"MTD\":\n",
    "        resid = MTD(y, y_hat, t, T, losstype=loss_comp, weight=factor)\n",
    "        \n",
    "    \n",
    "    \n",
    "    df = pd.DataFrame({\"y\":y,\n",
    "                      \"y_hat\":y_hat,\n",
    "                      \"t\":t,\n",
    "                      \"resid\":resid,\n",
    "                      \"loss\":[metric]*T,\n",
    "                      \"factor\":[factor]*T,\n",
    "                      \"losstype\":[loss_comp]*T})\n",
    "    return df"
   ]
  },
  {
   "cell_type": "code",
   "execution_count": 49,
   "metadata": {},
   "outputs": [
    {
     "data": {
      "text/html": [
       "<div>\n",
       "<style scoped>\n",
       "    .dataframe tbody tr th:only-of-type {\n",
       "        vertical-align: middle;\n",
       "    }\n",
       "\n",
       "    .dataframe tbody tr th {\n",
       "        vertical-align: top;\n",
       "    }\n",
       "\n",
       "    .dataframe thead th {\n",
       "        text-align: right;\n",
       "    }\n",
       "</style>\n",
       "<table border=\"1\" class=\"dataframe\">\n",
       "  <thead>\n",
       "    <tr style=\"text-align: right;\">\n",
       "      <th></th>\n",
       "      <th>y</th>\n",
       "      <th>y_hat</th>\n",
       "      <th>t</th>\n",
       "      <th>resid</th>\n",
       "      <th>loss</th>\n",
       "      <th>factor</th>\n",
       "      <th>losstype</th>\n",
       "    </tr>\n",
       "  </thead>\n",
       "  <tbody>\n",
       "    <tr>\n",
       "      <th>0</th>\n",
       "      <td>250.000000</td>\n",
       "      <td>300.000000</td>\n",
       "      <td>1</td>\n",
       "      <td>50.0</td>\n",
       "      <td>AE</td>\n",
       "      <td>1</td>\n",
       "      <td>loss</td>\n",
       "    </tr>\n",
       "    <tr>\n",
       "      <th>1</th>\n",
       "      <td>227.777778</td>\n",
       "      <td>277.777778</td>\n",
       "      <td>2</td>\n",
       "      <td>50.0</td>\n",
       "      <td>AE</td>\n",
       "      <td>1</td>\n",
       "      <td>loss</td>\n",
       "    </tr>\n",
       "    <tr>\n",
       "      <th>2</th>\n",
       "      <td>205.555556</td>\n",
       "      <td>255.555556</td>\n",
       "      <td>3</td>\n",
       "      <td>50.0</td>\n",
       "      <td>AE</td>\n",
       "      <td>1</td>\n",
       "      <td>loss</td>\n",
       "    </tr>\n",
       "    <tr>\n",
       "      <th>3</th>\n",
       "      <td>183.333333</td>\n",
       "      <td>233.333333</td>\n",
       "      <td>4</td>\n",
       "      <td>50.0</td>\n",
       "      <td>AE</td>\n",
       "      <td>1</td>\n",
       "      <td>loss</td>\n",
       "    </tr>\n",
       "    <tr>\n",
       "      <th>4</th>\n",
       "      <td>161.111111</td>\n",
       "      <td>211.111111</td>\n",
       "      <td>5</td>\n",
       "      <td>50.0</td>\n",
       "      <td>AE</td>\n",
       "      <td>1</td>\n",
       "      <td>loss</td>\n",
       "    </tr>\n",
       "  </tbody>\n",
       "</table>\n",
       "</div>"
      ],
      "text/plain": [
       "            y       y_hat  t  resid loss  factor losstype\n",
       "0  250.000000  300.000000  1   50.0   AE       1     loss\n",
       "1  227.777778  277.777778  2   50.0   AE       1     loss\n",
       "2  205.555556  255.555556  3   50.0   AE       1     loss\n",
       "3  183.333333  233.333333  4   50.0   AE       1     loss\n",
       "4  161.111111  211.111111  5   50.0   AE       1     loss"
      ]
     },
     "execution_count": 49,
     "metadata": {},
     "output_type": "execute_result"
    }
   ],
   "source": [
    "#metrics_of_interest = [\"AE\",\"EP_lin\",\"EP_lin_2\",\"EP_log\",\"EP_log_2\",\"EP_exp\",\"EP_exp_2\"]\n",
    "\n",
    "metrics_of_interest = [\"AE\",\"MTD\",\"PTD\",\"ETD\"] #\"LTG\",\n",
    "losstypes = [\"loss\"] #, \n",
    "factor_weights = [1] #0.25,0.5,0.75,\n",
    "\n",
    "data = []\n",
    "\n",
    "for factor_weight in factor_weights:\n",
    "    for loss in losstypes:\n",
    "        for metric in metrics_of_interest:\n",
    "            obs = generate_obs(metric, loss_comp=loss,factor=factor_weight)\n",
    "            data.append(obs)\n",
    "\n",
    "residuals = pd.concat(data)\n",
    "residuals.head()"
   ]
  },
  {
   "cell_type": "code",
   "execution_count": 50,
   "metadata": {},
   "outputs": [],
   "source": [
    "#residuals = residuals.rename(columns={\"resid\"})"
   ]
  },
  {
   "cell_type": "code",
   "execution_count": 51,
   "metadata": {},
   "outputs": [],
   "source": [
    "#from matplotlib import cm\n",
    "#cm.tab10(2)"
   ]
  },
  {
   "cell_type": "code",
   "execution_count": 52,
   "metadata": {},
   "outputs": [
    {
     "name": "stderr",
     "output_type": "stream",
     "text": [
      "C:\\Users\\Mike\\AppData\\Local\\Temp\\ipykernel_32112\\620553969.py:65: UserWarning: Matplotlib is currently using module://matplotlib_inline.backend_inline, which is a non-GUI backend, so cannot show the figure.\n",
      "  fig.show()\n"
     ]
    },
    {
     "data": {
      "image/png": "[encoded data removed]",
      "text/plain": [
       "<Figure size 720x576 with 4 Axes>"
      ]
     },
     "metadata": {},
     "output_type": "display_data"
    }
   ],
   "source": [
    "fig, ax = plt.subplots(2,2, figsize=(10, 8))\n",
    "\n",
    "metric = \"resid\"\n",
    "xaxis = \"t\"\n",
    "hue = \"loss\"\n",
    "\n",
    "fliersize = 1\n",
    "width = 0.8\n",
    "\n",
    "# Exclude some results\n",
    "\n",
    "AE = residuals.loc[residuals.loss == \"AE\"]\n",
    "\n",
    "sns.barplot(x=AE[xaxis], \n",
    "            y=AE[metric],\n",
    "            #hue=AE[hue],\n",
    "            color=cm.tab10(0),\n",
    "            dodge=True,\n",
    "            ax=ax[0,0])\n",
    "\n",
    "\n",
    "\n",
    "MTD = residuals.loc[residuals.loss == \"ETD\"]\n",
    "\n",
    "sns.barplot(x=MTD[xaxis], \n",
    "            y=MTD[metric],\n",
    "            #hue=MTD[hue],\n",
    "            color=cm.tab10(1),\n",
    "            dodge=True,\n",
    "            ax=ax[0,1])\n",
    "\n",
    "\n",
    "PTD = residuals.loc[residuals.loss == \"PTD\"]\n",
    "\n",
    "sns.barplot(x=PTD[xaxis], \n",
    "            y=PTD[metric],\n",
    "            #hue=PTD[hue],\n",
    "            color=cm.tab10(2),\n",
    "            dodge=True,\n",
    "            ax=ax[1,0])\n",
    "\n",
    "ETD = residuals.loc[residuals.loss == \"MTD\"]\n",
    "\n",
    "sns.barplot(x=ETD[xaxis], \n",
    "            y=ETD[metric],\n",
    "            #hue=ETD[hue],            \n",
    "            color=cm.tab10(3),\n",
    "            dodge=True,\n",
    "            ax=ax[1,1])\n",
    "\n",
    "#ylabel=\"Weighted residual\"\n",
    "\n",
    "ax[0,0].set(xlabel='Absolute error', ylabel=\"Residual\", ylim=[0,105]) #, xlim=[-0.5,6])\n",
    "ax[0,0].legend([],[], frameon=False)\n",
    "ax[0,1].set(xlabel='EtD = Exponential temporal decay', ylabel=\"Weighted residual\", ylim=[0,105])#, xlim=[-0.5,6])\n",
    "ax[0,1].legend([],[], frameon=False)\n",
    "ax[1,0].set(xlabel='PtD = Power temporal decay', ylabel=\"Weighted residual\", ylim=[0,105])#, xlim=[-0.5,6])\n",
    "ax[1,0].legend([],[], frameon=False)\n",
    "ax[1,1].set(xlabel='MtD = Moderate temporal decay', ylabel=\"Weighted residual\", ylim=[0,105])#, xlim=[-0.5,6])\n",
    "ax[1,1].legend([],[], frameon=False)\n",
    "\n",
    "\n",
    "#plt.savefig(\"loss.png\", dpi=200, bbox_inches = \"tight\")\n",
    "\n",
    "fig.show()"
   ]
  },
  {
   "cell_type": "markdown",
   "metadata": {},
   "source": [
    "# Relative weight"
   ]
  },
  {
   "cell_type": "code",
   "execution_count": 53,
   "metadata": {},
   "outputs": [],
   "source": [
    "AE_sum = np.sum(residuals.loc[residuals.loss == \"AE\",\"resid\"])\n",
    "ETD_sum = np.sum(residuals.loc[residuals.loss == \"ETD\",\"resid\"])\n",
    "PTD_sum = np.sum(residuals.loc[residuals.loss == \"PTD\",\"resid\"])\n",
    "MTD_sum = np.sum(residuals.loc[residuals.loss == \"MTD\",\"resid\"])"
   ]
  },
  {
   "cell_type": "code",
   "execution_count": 54,
   "metadata": {},
   "outputs": [
    {
     "data": {
      "text/plain": [
       "0.058195028516771115"
      ]
     },
     "execution_count": 54,
     "metadata": {},
     "output_type": "execute_result"
    }
   ],
   "source": [
    "#sum of the penalty term versus accuracy term:0.058195028516771115\n",
    "(ETD_sum-AE_sum)/AE_sum\n"
   ]
  },
  {
   "cell_type": "code",
   "execution_count": 55,
   "metadata": {},
   "outputs": [
    {
     "data": {
      "text/plain": [
       "0.2046964737527162"
      ]
     },
     "execution_count": 55,
     "metadata": {},
     "output_type": "execute_result"
    }
   ],
   "source": [
    "#sum of the penalty term versus accuracy term:0.2046964737527162\n",
    "(PTD_sum-AE_sum)/AE_sum"
   ]
  },
  {
   "cell_type": "code",
   "execution_count": 56,
   "metadata": {},
   "outputs": [
    {
     "data": {
      "text/plain": [
       "0.2928968253968253"
      ]
     },
     "execution_count": 56,
     "metadata": {},
     "output_type": "execute_result"
    }
   ],
   "source": [
    "#sum of the penalty term versus accuracy term:0.2928968253968253\n",
    "(MTD_sum-AE_sum)/AE_sum"
   ]
  },
  {
   "cell_type": "code",
   "execution_count": null,
   "metadata": {},
   "outputs": [],
   "source": []
  }
 ],
 "metadata": {
  "kernelspec": {
   "display_name": "Python 3 (ipykernel)",
   "language": "python",
   "name": "python3"
  },
  "language_info": {
   "codemirror_mode": {
    "name": "ipython",
    "version": 3
   },
   "file_extension": ".py",
   "mimetype": "text/x-python",
   "name": "python",
   "nbconvert_exporter": "python",
   "pygments_lexer": "ipython3",
   "version": "3.8.13"
  }
 },
 "nbformat": 4,
 "nbformat_minor": 4
}
